{
  "cells": [
    {
      "cell_type": "markdown",
      "source": [
        "# Entregable 3\n",
        "## Inteligencia Artificial"
      ],
      "metadata": {}
    },
    {
      "cell_type": "markdown",
      "source": [
        "En este entregable se realizará la aplicación de los clasificadores Máquinas de Vectores de Soporte (SVM), Redes Neuronales y Reducción de Dimensión. \n",
        "\n",
        "## SVM:\n",
        "\n",
        "Estos puntos los deben trabajar con **alguno (o si prefieren, todos)** de los conjuntos de datos del proyecto final. Trabajar con las tres clases aprovechando que `sklearn` utiliza el esquema uno-contra-todos (one-vs-rest OvR)\n",
        "\n",
        "Realizar las siguientes tareas:\n",
        "\n",
        "1. Entrenar un modelo de SVM con el conjunto de entrenamiento\n",
        "2. Reportar los resultados logrados con el conjunto de validación en términos de precisión, recall y F1-score. Para este punto pueden usar [classification_report de sklearn](https://scikit-learn.org/stable/modules/generated/sklearn.metrics.classification_report.html#sklearn.metrics.classification_report)\n",
        "3. Mostrar una matriz de confusión para la clasificación hecha en el conjunto de validación"
      ],
      "metadata": {}
    },
    {
      "cell_type": "code",
      "source": [
        "#celda para importar, pueden agregar las que requieran\n",
        "\n",
        "import numpy as np\n",
        "import pandas as pd\n",
        "import matplotlib.pyplot as plt"
      ],
      "outputs": [],
      "execution_count": 1,
      "metadata": {}
    },
    {
      "cell_type": "markdown",
      "source": [
        "Celda para la carga de datos:"
      ],
      "metadata": {}
    },
    {
      "cell_type": "markdown",
      "source": [
        "## Solución a punto 1."
      ],
      "metadata": {}
    },
    {
      "cell_type": "code",
      "source": [],
      "outputs": [],
      "execution_count": null,
      "metadata": {}
    },
    {
      "cell_type": "markdown",
      "source": [
        "## Solución a punto 2."
      ],
      "metadata": {}
    },
    {
      "cell_type": "code",
      "source": [],
      "outputs": [],
      "execution_count": null,
      "metadata": {}
    },
    {
      "cell_type": "markdown",
      "source": [
        "## Solución a punto 3."
      ],
      "metadata": {}
    },
    {
      "cell_type": "code",
      "source": [],
      "outputs": [],
      "execution_count": null,
      "metadata": {}
    },
    {
      "cell_type": "markdown",
      "source": [
        "## Redes Neuronales:\n",
        "\n",
        "Estos puntos los deben trabajar con **alguno (o si prefieren, todos)** de los conjuntos de datos del proyecto final.\n",
        "\n",
        "Realizar las siguientes tareas:\n",
        "\n",
        "1. Diseñar tres redes neuronales para la tarea de clasificación. Creárlas con diferentes número de capas ocultas, número de neuronas y funciones de activación.\n",
        "2. Entrenar las tres redes con el conjunto de entrenamiento.\n",
        "3. Comparar los resultados logrados para el conjunto de validación en términos de precisión, recall y F1-score.\n",
        "4. Mostrar las tres matrices de confusión logradas para el conjunto de validación.\n",
        "\n"
      ],
      "metadata": {}
    },
    {
      "cell_type": "markdown",
      "source": [
        "## Solución a punto 1."
      ],
      "metadata": {}
    },
    {
      "cell_type": "code",
      "source": [],
      "outputs": [],
      "execution_count": null,
      "metadata": {}
    },
    {
      "cell_type": "markdown",
      "source": [
        "## Solución a punto 2."
      ],
      "metadata": {}
    },
    {
      "cell_type": "code",
      "source": [],
      "outputs": [],
      "execution_count": null,
      "metadata": {}
    },
    {
      "cell_type": "markdown",
      "source": [
        "## Solución a punto 3."
      ],
      "metadata": {}
    },
    {
      "cell_type": "code",
      "source": [],
      "outputs": [],
      "execution_count": null,
      "metadata": {}
    },
    {
      "cell_type": "markdown",
      "source": [
        "## Solución a punto 4."
      ],
      "metadata": {}
    },
    {
      "cell_type": "code",
      "source": [],
      "outputs": [],
      "execution_count": null,
      "metadata": {}
    },
    {
      "cell_type": "markdown",
      "source": [
        "## Reducción de Dimensión:\n",
        "\n",
        "1. Realizar reducción de dimensión con Análisis de Componentes Principales (PCA) para el (o los) conjuntos de datos usado(s) previamente. La reducción se puede hacer a una dimensión fija o reteniendo el porcentaje de varianza que definan. Sugerencia: usar fit_transform sobre datos de entrenamiento de [PCA de sklearn](https://scikit-learn.org/stable/modules/generated/sklearn.decomposition.PCA.html#sklearn.decomposition.PCA.fit_transform).\n",
        "2. Entrenar los clasificadores SVM y Red Neuronal (solo la mejor de las tres redes) con los datos reducidos.\n",
        "3. Reportar métricas de desempeño para los conjuntos de validación (este conjunto también debe ser reducido Sugerencia: usar transform sobre datos de validación de [PCA de sklearn](https://scikit-learn.org/stable/modules/generated/sklearn.decomposition.PCA.html#sklearn.decomposition.PCA.transform)).\n"
      ],
      "metadata": {}
    },
    {
      "cell_type": "markdown",
      "source": [
        "## Solución a punto 1."
      ],
      "metadata": {}
    },
    {
      "cell_type": "code",
      "source": [],
      "outputs": [],
      "execution_count": null,
      "metadata": {}
    },
    {
      "cell_type": "markdown",
      "source": [
        "## Solución a punto 2."
      ],
      "metadata": {}
    },
    {
      "cell_type": "code",
      "source": [],
      "outputs": [],
      "execution_count": null,
      "metadata": {}
    },
    {
      "cell_type": "markdown",
      "source": [
        "## Solución a punto 3."
      ],
      "metadata": {}
    },
    {
      "cell_type": "code",
      "source": [],
      "outputs": [],
      "execution_count": null,
      "metadata": {}
    }
  ],
  "metadata": {
    "kernelspec": {
      "display_name": "Python 3 (ipykernel)",
      "language": "python",
      "name": "python3"
    },
    "language_info": {
      "codemirror_mode": {
        "name": "ipython",
        "version": 3
      },
      "file_extension": ".py",
      "mimetype": "text/x-python",
      "name": "python",
      "nbconvert_exporter": "python",
      "pygments_lexer": "ipython3",
      "version": "3.10.12"
    },
    "nteract": {
      "version": "nteract-front-end@1.0.0"
    }
  },
  "nbformat": 4,
  "nbformat_minor": 4
}